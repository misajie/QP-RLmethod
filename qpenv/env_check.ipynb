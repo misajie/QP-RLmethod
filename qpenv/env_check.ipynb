{
 "cells": [
  {
   "cell_type": "code",
   "execution_count": 25,
   "id": "091c923b",
   "metadata": {},
   "outputs": [],
   "source": [
    "from active_set_env import *\n",
    "import sys\n",
    "sys.path.append(\"../../RLAS\")\n",
    "from benchmarks.problem_classes.random_qp import RandomQPExample"
   ]
  },
  {
   "cell_type": "code",
   "execution_count": 27,
   "id": "3b69579b",
   "metadata": {},
   "outputs": [
    {
     "name": "stdout",
     "output_type": "stream",
     "text": [
      "(1, 1) (1,) (10, 1) (10,) (10,)\n"
     ]
    }
   ],
   "source": [
    "mpceg = RandomQPExample(1).qp_problem\n",
    "P, q, A, lx, ux = mpceg['P'], mpceg['q'], mpceg['A'], mpceg['l'], mpceg['u']\n",
    "qpeps = QPEpisode(P, q, A, lx, ux,eps=1e-3,step_reward=-1,iterations_per_step=1)\n",
    "# though only one step is needed to solve LP via OSQP\n",
    "# rng = np.random.default_rng(123)\n",
    "# for step in range(500):\n",
    "#     rng_action = [2 if lx[i]==ux[i] else rng.integers(low=-1,high=2) for i in range(lx.shape[0])]\n",
    "#     # print(action)\n",
    "#     next_obs, reward, done, _ = qpeps.step(rng_action)\n",
    "#     # print(qpeps.result.y)\n",
    "#     if step%100==0:\n",
    "#         print(\"<\",end=\" \")\n",
    "#     if done:\n",
    "#         print(qpeps.x,qpeps.y)\n",
    "#         break\n",
    "# print(next_obs.shape)"
   ]
  },
  {
   "cell_type": "markdown",
   "id": "82306a7d",
   "metadata": {},
   "source": [
    "### DDPG trial"
   ]
  },
  {
   "cell_type": "code",
   "execution_count": null,
   "id": "238b5426",
   "metadata": {},
   "outputs": [],
   "source": []
  }
 ],
 "metadata": {
  "kernelspec": {
   "display_name": "Python [conda env:tianshou]",
   "language": "python",
   "name": "conda-env-tianshou-py"
  },
  "language_info": {
   "codemirror_mode": {
    "name": "ipython",
    "version": 3
   },
   "file_extension": ".py",
   "mimetype": "text/x-python",
   "name": "python",
   "nbconvert_exporter": "python",
   "pygments_lexer": "ipython3",
   "version": "3.8.12"
  }
 },
 "nbformat": 4,
 "nbformat_minor": 5
}
